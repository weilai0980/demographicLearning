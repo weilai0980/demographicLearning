{
 "cells": [
  {
   "cell_type": "code",
   "execution_count": 1,
   "metadata": {
    "collapsed": false
   },
   "outputs": [
    {
     "name": "stdout",
     "output_type": "stream",
     "text": [
      "Couldn't import dot_parser, loading of dot files will not be possible.\n"
     ]
    },
    {
     "name": "stderr",
     "output_type": "stream",
     "text": [
      "Using Theano backend.\n"
     ]
    }
   ],
   "source": [
    "# data processing packages\n",
    "import numpy as np   \n",
    "import pandas as pd \n",
    "from pandas import *\n",
    "from numpy import *\n",
    "\n",
    "from scipy import stats # look at scipy\n",
    "from scipy import linalg\n",
    "from scipy import *\n",
    " \n",
    "%matplotlib inline    \n",
    "import matplotlib as mplt\n",
    "from matplotlib import cm\n",
    "import matplotlib.pyplot as plt\n",
    "import matplotlib.gridspec as gridspec\n",
    "\n",
    "import IPython\n",
    "from IPython.display import display\n",
    "\n",
    "import matplotlib\n",
    "from matplotlib.ticker import FuncFormatter\n",
    "import matplotlib.pyplot as plt\n",
    "# matplotlib.style.use('ggplot')\n",
    "import itertools\n",
    "\n",
    "import random\n",
    "\n",
    "# machine leanring packages\n",
    "\n",
    "from keras.models import Sequential \n",
    "from keras.layers.core import Dense, Activation, TimeDistributedDense, Dropout\n",
    "from keras.layers.recurrent import LSTM\n",
    "from keras.optimizers import *\n",
    "from keras.callbacks import *\n",
    "# RMSprop, Adadelta\n",
    "from keras.regularizers import l2, activity_l2\n",
    "from keras.utils.np_utils import to_categorical\n",
    "\n",
    "from sklearn.metrics import accuracy_score\n",
    "from sklearn.model_selection import train_test_split\n",
    "from sklearn.model_selection import cross_val_score\n",
    "from sklearn import tree\n",
    "from sklearn.ensemble import GradientBoostingClassifier\n",
    "from sklearn.ensemble import RandomForestClassifier\n",
    "from sklearn.metrics import precision_recall_fscore_support as score\n",
    "\n"
   ]
  },
  {
   "cell_type": "code",
   "execution_count": 2,
   "metadata": {
    "collapsed": false
   },
   "outputs": [
    {
     "name": "stdout",
     "output_type": "stream",
     "text": [
      "(6938, 186) (771, 186) (6938, 1) (771, 1)\n",
      "(6938, 186) (6938, 1)\n",
      "(771, 186) (771, 1)\n"
     ]
    }
   ],
   "source": [
    "# ------------data prepro-----------------------\n",
    "\n",
    "files_list=[\"../dataset/dataset_demo/xtrain.csv\", \\\n",
    "            \"../dataset/dataset_demo/xtest.csv\",\\\n",
    "            \"../dataset/dataset_demo/ytrain.csv\", \\\n",
    "            \"../dataset/dataset_demo/ytest.csv\"]\n",
    "\n",
    "xtrain_df=pd.read_csv( files_list[0] ,sep=',', header=None)\n",
    "xtest_df=pd.read_csv( files_list[1] ,sep=',', header=None)\n",
    "ytrain_df=pd.read_csv( files_list[2] ,sep=',', header=None)\n",
    "ytest_df=pd.read_csv( files_list[3] ,sep=',', header=None)\n",
    "\n",
    "print xtrain_df.shape, xtest_df.shape, ytrain_df.shape, ytest_df.shape\n",
    "\n",
    "\n",
    "# get training and testing data prepared\n",
    "\n",
    "# cxtrain, dxtrain = conti_cate_split(xtrain_df, 106)\n",
    "# cxtest, dxtest = conti_cate_split(xtest_df, 106)\n",
    "\n",
    "# cxtest = conti_normalization_test_dta(cxtest, cxtrain)\n",
    "# cxtrain = conti_normalization_train_dta(cxtrain)\n",
    "\n",
    "print xtrain_df.shape, ytrain_df.shape\n",
    "print xtest_df.shape,  ytest_df.shape\n",
    "\n",
    "# cxtrain = cxtrain.as_matrix() \n",
    "xtrain = xtrain_df.as_matrix()\n",
    "xtest  = xtest_df.as_matrix()\n",
    "\n",
    "ytrain = ytrain_df.as_matrix()\n",
    "ytest  = ytest_df.as_matrix()\n",
    "\n",
    "# ytest = np_utils.to_categorical( ytest_df.as_matrix() )\n",
    "# ytrain =np_utils.to_categorical( ytrain_df.as_matrix() )"
   ]
  },
  {
   "cell_type": "code",
   "execution_count": 18,
   "metadata": {
    "collapsed": true
   },
   "outputs": [],
   "source": [
    "def crossv_rf_num_estimatior(maxnum, X,Y):\n",
    "    score_list=[]\n",
    "    tmpscore=0\n",
    "    tmpnum=0\n",
    "    \n",
    "    tmpy = Y.reshape( (len(Y),) )\n",
    "    \n",
    "    for i in range(1,maxnum+1,10):\n",
    "        clf = RandomForestClassifier(n_estimators=i,max_depth=3)\n",
    "        scores = cross_val_score(clf, X, tmpy)\n",
    "        score_list.append(scores)\n",
    "    \n",
    "        if scores.mean()>tmpscore:\n",
    "            tmpscore=scores.mean()\n",
    "            tmpnum=i\n",
    "    return tmpnum, score_list\n",
    "\n",
    "def crossv_gbt_num_estimatior(maxnum,X,Y):\n",
    "    score_list=[]\n",
    "    tmpscore=0\n",
    "    tmpnum=0\n",
    "    \n",
    "    tmpy = Y.reshape( (len(Y),) )\n",
    "    \n",
    "    for i in range(1,maxnum+1,10):\n",
    "        clf = GradientBoostingClassifier(n_estimators=i,learning_rate=0.1)\n",
    "        scores = cross_val_score(clf, X, tmpy)\n",
    "        score_list.append(scores)\n",
    "    \n",
    "        if scores.mean()>tmpscore:\n",
    "            tmpscore=scores.mean()\n",
    "            tmpnum=i\n",
    "    return tmpnum, score_list"
   ]
  },
  {
   "cell_type": "code",
   "execution_count": 16,
   "metadata": {
    "collapsed": false
   },
   "outputs": [
    {
     "name": "stdout",
     "output_type": "stream",
     "text": [
      "# trees: 11\n",
      "Random forest test accuracy: 0.294422827497\n",
      "Random forest training accuracy: 0.30729316806\n"
     ]
    },
    {
     "name": "stderr",
     "output_type": "stream",
     "text": [
      "/usr/local/lib/python2.7/dist-packages/ipykernel/__main__.py:2: DataConversionWarning: A column-vector y was passed when a 1d array was expected. Please change the shape of y to (n_samples,), for example using ravel().\n",
      "  from ipykernel import kernelapp as app\n"
     ]
    }
   ],
   "source": [
    "rf_num, rf_slist= crossv_rf_num_estimatior(100,xtrain,ytrain)\n",
    "rf=RandomForestClassifier(n_estimators=rf_num,max_depth=3).fit(xtrain,ytrain)\n",
    "print \"# trees:\",rf_num\n",
    "print \"Random forest test accuracy:\",rf.score(xtest,ytest)\n",
    "print \"Random forest training accuracy:\",rf.score(xtrain,ytrain)\n"
   ]
  },
  {
   "cell_type": "code",
   "execution_count": 19,
   "metadata": {
    "collapsed": false
   },
   "outputs": [
    {
     "name": "stdout",
     "output_type": "stream",
     "text": [
      "# iterations: 21\n",
      "Gradient boosting tree test accuracy: 0.306095979248\n",
      "Gradient boosting tree training accuracy: 0.429374459498\n"
     ]
    },
    {
     "name": "stderr",
     "output_type": "stream",
     "text": [
      "/usr/local/lib/python2.7/dist-packages/sklearn/utils/validation.py:526: DataConversionWarning: A column-vector y was passed when a 1d array was expected. Please change the shape of y to (n_samples, ), for example using ravel().\n",
      "  y = column_or_1d(y, warn=True)\n"
     ]
    }
   ],
   "source": [
    "gbt_num, gbt_slist=crossv_gbt_num_estimatior(100,xtrain,ytrain)\n",
    "gbt = GradientBoostingClassifier(n_estimators=gbt_num,learning_rate=0.1).fit(xtrain,ytrain)\n",
    "print \"# iterations:\",gbt_num\n",
    "print \"Gradient boosting tree test accuracy:\", gbt.score(xtest,ytest)\n",
    "print \"Gradient boosting tree training accuracy:\", gbt.score(xtrain,ytrain)\n"
   ]
  },
  {
   "cell_type": "code",
   "execution_count": 11,
   "metadata": {
    "collapsed": false
   },
   "outputs": [],
   "source": [
    "def result_plot( accu_list, feature_name, maxnum, fig_title, filename ):\n",
    "    fig = plt.figure()\n",
    "    \n",
    "    figsize=( 15.4,7)\n",
    "    font_size=15\n",
    "    fig.set_size_inches( figsize )\n",
    "    matplotlib.rcParams.update({'font.size': font_size})\n",
    "\n",
    "    axes = plt.gca()\n",
    "    axes.set_ylim([0.2,0.35])\n",
    "    \n",
    "    x= range(1,maxnum+1,10)\n",
    "    \n",
    "    for i in range(len(accu_list)):\n",
    "        \n",
    "        tmp=[]\n",
    "        for j in range(len(accu_list[i])):\n",
    "            tmp.append( accu_list[i][j].mean() )\n",
    "        \n",
    "        plt.plot( x, tmp ,label=feature_name[i] )\n",
    "\n",
    "    plt.title(fig_title)\n",
    "    plt.ylabel('Accuray on validation datasets')\n",
    "    plt.xlabel('# of tress or iterations')\n",
    "    # plt.legend( loc='upper left',fontsize=12 )\n",
    "    plt.legend(loc='upper right')\n",
    "\n",
    "    fig.savefig('./results/'+filename+'.jpg', format='jpg', bbox_inches='tight')\n",
    "\n",
    "def feature_importance_plot(feature_import, title, filename, yrange):\n",
    "    \n",
    "    fig=plt.figure() \n",
    "    y_pos = np.arange(len(feature_import))\n",
    "    \n",
    "    axes = plt.gca()\n",
    "    axes.set_xlim([0,len(feature_import)+1])\n",
    "    axes.set_ylim(yrange)\n",
    "\n",
    "    \n",
    "    plt.bar(y_pos, feature_import, align='center', alpha=0.5)\n",
    "# plt.xticks(y_pos, label_set)\n",
    "    plt.ylabel('Feature importance weights \\n (sum of weights =1)')\n",
    "    plt.xlabel('Features (the same order as in the data file)')\n",
    "\n",
    "    plt.title(title)\n",
    "    \n",
    "    fig.savefig('./results/'+filename+'.jpg', format='jpg', bbox_inches='tight')\n",
    "    \n",
    "def total_feature_importance_plot(feature_import, title, filename):\n",
    "    \n",
    "    fig=plt.figure() \n",
    "    y_pos = np.arange(len(feature_import))\n",
    "    \n",
    "    axes = plt.gca()\n",
    "    axes.set_xlim([-1,len(feature_import)+1])\n",
    "    axes.set_ylim([0,0.5])\n",
    "\n",
    "    \n",
    "    plt.bar(y_pos, feature_import, align='center', alpha=0.5)\n",
    "    plt.xticks(y_pos, ['Mobility','Frequency','Recency'])\n",
    "    plt.ylabel('Feature importance weights \\n (sum of weights =1)')\n",
    "    plt.xlabel('Features groups')\n",
    "\n",
    "    plt.title(title)\n",
    "    \n",
    "    fig.savefig('./results/'+filename+'.jpg', format='jpg', bbox_inches='tight')\n",
    "\n"
   ]
  }
 ],
 "metadata": {
  "kernelspec": {
   "display_name": "Python 2",
   "language": "python",
   "name": "python2"
  },
  "language_info": {
   "codemirror_mode": {
    "name": "ipython",
    "version": 2
   },
   "file_extension": ".py",
   "mimetype": "text/x-python",
   "name": "python",
   "nbconvert_exporter": "python",
   "pygments_lexer": "ipython2",
   "version": "2.7.6"
  }
 },
 "nbformat": 4,
 "nbformat_minor": 0
}
