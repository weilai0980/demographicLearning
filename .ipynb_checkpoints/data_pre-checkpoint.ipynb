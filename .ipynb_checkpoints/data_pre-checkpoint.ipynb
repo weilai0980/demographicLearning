{
 "cells": [
  {
   "cell_type": "code",
   "execution_count": 1,
   "metadata": {
    "collapsed": false
   },
   "outputs": [],
   "source": [
    "# data processing packages\n",
    "import numpy as np   \n",
    "import pandas as pd \n",
    "from pandas import *\n",
    "from numpy import *\n",
    "\n",
    "from scipy import stats # look at scipy\n",
    "from scipy import linalg\n",
    "from scipy import *\n",
    " \n",
    "%matplotlib inline    \n",
    "import matplotlib as mplt\n",
    "from matplotlib import cm\n",
    "import matplotlib.pyplot as plt\n",
    "import matplotlib.gridspec as gridspec\n",
    "\n",
    "import IPython\n",
    "from IPython.display import display\n",
    "\n",
    "import matplotlib\n",
    "from matplotlib.ticker import FuncFormatter\n",
    "import matplotlib.pyplot as plt\n",
    "# matplotlib.style.use('ggplot')\n",
    "import itertools\n",
    "\n",
    "import random\n",
    "\n",
    "# machine leanring packages\n",
    "\n",
    "from sklearn.metrics import accuracy_score\n",
    "from sklearn.model_selection import train_test_split\n",
    "from sklearn.model_selection import cross_val_score\n",
    "from sklearn import tree\n",
    "from sklearn.ensemble import GradientBoostingClassifier\n",
    "from sklearn.ensemble import RandomForestClassifier\n",
    "from sklearn.metrics import precision_recall_fscore_support as score\n",
    "\n",
    "from sklearn.model_selection import train_test_split\n"
   ]
  },
  {
   "cell_type": "code",
   "execution_count": 2,
   "metadata": {
    "collapsed": false
   },
   "outputs": [
    {
     "name": "stdout",
     "output_type": "stream",
     "text": [
      "Shape of merged frequency_week dataframe: (9622, 81)\n"
     ]
    }
   ],
   "source": [
    "# pre-process frequency_week features\n",
    "\n",
    "fre_num=1\n",
    "fre_addr=\"../dataset/dataset_demo/ds_take-home_challenge_interest_features_frequency_week_\"\n",
    "\n",
    "fre_df=[]\n",
    "for i in range(1,fre_num+1):\n",
    "    tmpfile=fre_addr+str(i)+\".csv\"\n",
    "    tmpdf=pd.read_csv( tmpfile ,sep=',')\n",
    "    fre_df.append(tmpdf)\n",
    "    \n",
    "# concatenate data in three file and then groupby with uid as the key\n",
    "tot_fre_df = pd.concat(fre_df)\n",
    "agg_fre_df=tot_fre_df.groupby(['uid'], as_index=False).sum()\n",
    "\n",
    "# handle missing data by filling zero\n",
    "# not break the semantic meaning of features \n",
    "agg_fre_df=agg_fre_df.fillna(0)\n",
    "\n",
    "print \"Shape of merged frequency_week dataframe:\",agg_fre_df.shape"
   ]
  },
  {
   "cell_type": "code",
   "execution_count": 3,
   "metadata": {
    "collapsed": false
   },
   "outputs": [
    {
     "name": "stdout",
     "output_type": "stream",
     "text": [
      "Shape of merged mobility_feature dataframe: (10000, 27)\n"
     ]
    }
   ],
   "source": [
    "# pre-process mobility_features\n",
    "mobi_addr=\"../dataset/dataset_demo/ds_take-home_challenge_mobility_features.csv\"\n",
    "mobi_df=pd.read_csv( mobi_addr ,sep=',')\n",
    "mobi_cols= mobi_df.columns\n",
    "\n",
    "print \"Shape of merged mobility_feature dataframe:\", mobi_df.shape"
   ]
  },
  {
   "cell_type": "code",
   "execution_count": 4,
   "metadata": {
    "collapsed": false
   },
   "outputs": [
    {
     "name": "stdout",
     "output_type": "stream",
     "text": [
      "(9635, 81)\n"
     ]
    }
   ],
   "source": [
    "# pre-process recency features: \n",
    "# one-hot encode empty cells \n",
    "\n",
    "rece_num=1\n",
    "rece_addr=\"../dataset/dataset_demo/ds_take-home_challenge_interest_features_recency_week_\"\n",
    "\n",
    "def encoding(x):\n",
    "    if pd.isnull(x):\n",
    "        return 7\n",
    "    else:\n",
    "        return x\n",
    "\n",
    "rece_df=[]\n",
    "for i in range(1,rece_num+1):\n",
    "    tmpfile=rece_addr+str(i)+\".csv\"\n",
    "    tmpdf=pd.read_csv( tmpfile ,sep=',')\n",
    "    rece_df.append(tmpdf)\n",
    "\n",
    "#  encode as categorical features by bit encoding\n",
    "# for classifier, maintain the data integrity, easy for merge datasets,\n",
    "    \n",
    "cols= list(rece_df[0].columns)\n",
    "cols.remove('uid')\n",
    "\n",
    "for i in range(rece_num):\n",
    "    uid_col=rece_df[i]['uid']\n",
    "    tmp_df=rece_df[i][cols].applymap(encoding)\n",
    "    tmp_df['uid']=uid_col\n",
    "    rece_df[i]=tmp_df\n",
    "\n",
    "tot_rece_df = pd.concat(rece_df)\n",
    "tot_rece_df.reset_index(inplace=True, drop=True)\n",
    "\n",
    "print tot_rece_df.shape\n",
    "\n",
    "agg_rece_df = tot_rece_df"
   ]
  },
  {
   "cell_type": "code",
   "execution_count": 5,
   "metadata": {
    "collapsed": false
   },
   "outputs": [
    {
     "name": "stdout",
     "output_type": "stream",
     "text": [
      "Mapping for label-integer transformation: {'18-24': 0, '45-54': 3, '65-74': 5, '25-34': 1, '55-64': 4, '85+': 7, '35-44': 2, '75-84': 6}\n",
      "Mapping for integer-label transformation: {0: '18-24', 1: '25-34', 2: '35-44', 3: '45-54', 4: '55-64', 5: '65-74', 6: '75-84', 7: '85+'}\n",
      "(8000, 2)\n"
     ]
    }
   ],
   "source": [
    "# prepare labels\n",
    "\n",
    "label_addr= \"../dataset/dataset_demo/ds_take-home_challenge_labels.csv\"\n",
    "label_df=pd.read_csv( label_addr ,sep=',')\n",
    "tmpdf= label_df[ ['uid','age_bucket'] ]\n",
    "\n",
    "train_vali_set= tmpdf[ tmpdf['age_bucket']!='na' ]\n",
    "\n",
    "label_set= train_vali_set['age_bucket'].unique()\n",
    "label_set.sort()\n",
    "\n",
    "label_map={}\n",
    "for i in range(len(label_set)):\n",
    "    label_map.update({ label_set[i]:i })\n",
    "print \"Mapping for label-integer transformation:\", label_map\n",
    "\n",
    "tmp=label_map.items()\n",
    "tmp= map(lambda x:[x[1], str(x[0])], tmp )\n",
    "label_rmap=dict(tmp)\n",
    "print \"Mapping for integer-label transformation:\", label_rmap\n",
    "\n",
    "label_df = train_vali_set\n",
    "print label_df.shape"
   ]
  },
  {
   "cell_type": "code",
   "execution_count": 6,
   "metadata": {
    "collapsed": false
   },
   "outputs": [
    {
     "name": "stdout",
     "output_type": "stream",
     "text": [
      "Shape of dataframe containing mobility features and labels: (8000, 28)\n",
      "Shape of dataframe containing mobility, frequency features and labels: (7709, 108)\n",
      "Shape of dataframe containing mobility, frequency, recency features and labels: (7709, 188)\n"
     ]
    }
   ],
   "source": [
    "dta_mobi= pd.merge(label_df, mobi_df,on='uid' )\n",
    "print \"Shape of dataframe containing mobility features and labels:\",dta_mobi.shape\n",
    "\n",
    "dta_mobi_fre= pd.merge(dta_mobi, agg_fre_df,on='uid' )\n",
    "print \"Shape of dataframe containing mobility, frequency features and labels:\",\\\n",
    "dta_mobi_fre.shape\n",
    "\n",
    "# dataframe containing all features \n",
    "dta_mobi_fre_rece= pd.merge(dta_mobi_fre, agg_rece_df,on='uid' )\n",
    "print \"Shape of dataframe containing mobility, frequency, recency features and labels:\",\\\n",
    "dta_mobi_fre_rece.shape\n",
    "\n",
    "xy_df= dta_mobi_fre_rece"
   ]
  },
  {
   "cell_type": "code",
   "execution_count": 7,
   "metadata": {
    "collapsed": false
   },
   "outputs": [
    {
     "name": "stdout",
     "output_type": "stream",
     "text": [
      "(7709,) (7709, 186)\n",
      "Index([u'movement_activity_0', u'movement_activity_1', u'movement_activity_2',\n",
      "       u'movement_activity_3', u'movement_activity_4', u'movement_activity_5',\n",
      "       u'movement_activity_6', u'movement_activity_7', u'movement_activity_8',\n",
      "       u'stationarity_0',\n",
      "       ...\n",
      "       u'Shopping~Consumer_Electronics_y', u'Shopping~Coupons_y',\n",
      "       u'Shopping~Home_and_Garden_y', u'Shopping~Other_y',\n",
      "       u'Shopping~Sports_y', u'Sports~Other_y',\n",
      "       u'Travel~Accommodation_and_Hotels_y', u'Travel~Airlines_and_Airports_y',\n",
      "       u'Travel~Other_y', u'Travel~Tourism_y'],\n",
      "      dtype='object', length=186)\n"
     ]
    }
   ],
   "source": [
    "tmpcols = list(xy_df.columns)\n",
    "y_df = xy_df['age_bucket']\n",
    "\n",
    "tmpcols.remove('age_bucket')\n",
    "tmpcols.remove('uid')\n",
    "x_df = xy_df[tmpcols] \n",
    "\n",
    "print y_df.shape, x_df.shape\n",
    "print x_df.columns\n"
   ]
  },
  {
   "cell_type": "code",
   "execution_count": 24,
   "metadata": {
    "collapsed": false
   },
   "outputs": [
    {
     "name": "stdout",
     "output_type": "stream",
     "text": [
      "(6938, 186) (6938, 1) (771, 186) (771, 1)\n",
      "Y distribution on training data\n",
      "Y distribution on testing data\n"
     ]
    },
    {
     "data": {
      "image/png": "[encoded data removed]",
      "text/plain": [
       "<matplotlib.figure.Figure at 0x7f065d54ce50>"
      ]
     },
     "metadata": {},
     "output_type": "display_data"
    },
    {
     "data": {
      "image/png": "[encoded data removed]",
      "text/plain": [
       "<matplotlib.figure.Figure at 0x7f065d36e590>"
      ]
     },
     "metadata": {},
     "output_type": "display_data"
    }
   ],
   "source": [
    "# prepare the training and testing datasets\n",
    "\n",
    "cnt=y_df.shape[0]\n",
    "ylist = list(y_df)\n",
    "# print ylist\n",
    "ylabel_list = [ label_map[i] for i in ylist ]\n",
    "\n",
    "ylabel = np.matrix(ylabel_list).transpose() \n",
    "x = x_df.as_matrix()\n",
    " \n",
    "x_train, x_test, y_train, y_test = train_test_split( x, ylabel, \\\n",
    "                                                           test_size=0.1, random_state=20)\n",
    "\n",
    "print np.shape(x_train),np.shape(y_train),np.shape(x_test),np.shape(y_test)\n",
    "\n",
    "from utils import *\n",
    "\n",
    "print \"Y distribution on training data\"\n",
    "y_distribution_plot( y_train, range(8) )\n",
    "print \"Y distribution on testing data\"\n",
    "y_distribution_plot( y_test, range(8) )"
   ]
  },
  {
   "cell_type": "code",
   "execution_count": 25,
   "metadata": {
    "collapsed": false
   },
   "outputs": [],
   "source": [
    "np.savetxt(\"../dataset/dataset_demo/xtrain.csv\", x_train, delimiter=\",\")\n",
    "np.savetxt(\"../dataset/dataset_demo/xtest.csv\", x_test, delimiter=\",\")\n",
    "\n",
    "np.savetxt(\"../dataset/dataset_demo/ytrain.csv\", y_train, delimiter=\",\")\n",
    "np.savetxt(\"../dataset/dataset_demo/ytest.csv\", y_test, delimiter=\",\")"
   ]
  },
  {
   "cell_type": "code",
   "execution_count": 149,
   "metadata": {
    "collapsed": false
   },
   "outputs": [
    {
     "name": "stdout",
     "output_type": "stream",
     "text": [
      "(9635, 81)\n",
      "(9598, 81)\n",
      "(9564, 81)\n",
      "(28797, 81)\n"
     ]
    }
   ],
   "source": [
    "# BACKUP\n",
    "# pre-process recency features: \n",
    "# 1.encoding recency features \n",
    "\n",
    "rece_num=3\n",
    "rece_addr=\"./dataset_demo/ds_take-home_challenge_interest_features_recency_week_\"\n",
    "\n",
    "def encoding(x):\n",
    "    if pd.isnull(x):\n",
    "        return pow(2,7)\n",
    "    else:\n",
    "        return pow(2,x)\n",
    "\n",
    "rece_df=[]\n",
    "for i in range(3,rece_num+1):\n",
    "    tmpfile=rece_addr+str(i)+\".csv\"\n",
    "    tmpdf=pd.read_csv( tmpfile ,sep=',')\n",
    "    rece_df.append(tmpdf)\n",
    "\n",
    "#  encode as categorical features by bit encoding\n",
    "# for classifier, maintain the data integrity, easy for merge datasets,\n",
    "    \n",
    "cols= list(rece_df[0].columns)\n",
    "cols.remove('uid')\n",
    "\n",
    "for i in range(rece_num):\n",
    "    uid_col=rece_df[i]['uid']\n",
    "    tmp_df=rece_df[i][cols].applymap(encoding)\n",
    "    tmp_df['uid']=uid_col\n",
    "    rece_df[i]=tmp_df\n",
    "\n",
    "tot_rece_df = pd.concat(rece_df)\n",
    "tot_rece_df.reset_index(inplace=True, drop=True)\n",
    "\n",
    "print tot_rece_df.shape\n",
    "\n",
    "# pre-process recency features: \n",
    "# 2.merge encoding of different data files, \n",
    "# 3.store the merged dataset on disk\n",
    "\n",
    "def aggre(x):\n",
    "    tmpuid= int(x['uid'][0:1])\n",
    "#     print x['uid'][0:1]\n",
    "    tmpcols=list(x.columns)\n",
    "    tmpcols.remove('uid')\n",
    "    tmpnum=x.shape[0]\n",
    "    \n",
    "    res=[]\n",
    "    for i in tmpcols:\n",
    "        tmpval=0\n",
    "        for j in range(tmpnum):\n",
    "            tmpval= int(x[i][j:j+1])|tmpval\n",
    "        res.append(tmpval)\n",
    "    res.append(tmpuid)    \n",
    "    \n",
    "    tmpdf=pd.DataFrame(columns = x.columns)\n",
    "    tmpdf.loc[0]=res\n",
    "    \n",
    "    return tmpdf\n",
    "    \n",
    "agg_rece_df=tot_rece_df.groupby(['uid'], as_index=False).apply(aggre)\n",
    "agg_rece_df.reset_index(inplace=True, drop=True)\n",
    "\n",
    "# this dataset takes time to process, so store the merged data on disk\n",
    "agg_rece_df.to_csv(\"./dataset/merged_recency\",header=True, index=False, mode='w')"
   ]
  },
  {
   "cell_type": "code",
   "execution_count": 7,
   "metadata": {
    "collapsed": false
   },
   "outputs": [
    {
     "name": "stdout",
     "output_type": "stream",
     "text": [
      "Shape of merged recency_week dataframe: (9764, 81)\n"
     ]
    }
   ],
   "source": [
    "# BACKUP\n",
    "# # pre-process recency features:\n",
    "# 4. load processed recency features already on disk\n",
    "agg_rece_df=pd.read_csv( \"../dataset/dataset_demo/merged_recency\" ,sep=',')\n",
    "\n",
    "print \"Shape of merged recency_week dataframe:\",agg_rece_df.shape"
   ]
  },
  {
   "cell_type": "code",
   "execution_count": 6,
   "metadata": {
    "collapsed": false
   },
   "outputs": [
    {
     "name": "stdout",
     "output_type": "stream",
     "text": [
      "Mapping for label-integer transformation: {'18-24': 0, '45-54': 3, '65-74': 5, '25-34': 1, '55-64': 4, '85+': 7, '35-44': 2, '75-84': 6}\n",
      "Mapping for integer-label transformation: {0: '18-24', 1: '25-34', 2: '35-44', 3: '45-54', 4: '55-64', 5: '65-74', 6: '75-84', 7: '85+'}\n",
      "(8000, 2)\n"
     ]
    }
   ],
   "source": [
    "# BACKUP\n",
    "# prepare training and test datasets\n",
    "\n",
    "label_addr= \"../dataset/dataset_demo/ds_take-home_challenge_labels.csv\"\n",
    "label_df=pd.read_csv( label_addr ,sep=',')\n",
    "tmpdf= label_df[ ['uid','age_bucket'] ]\n",
    "\n",
    "train_vali_set= tmpdf[ tmpdf['age_bucket']!='na' ]\n",
    "\n",
    "label_set= train_vali_set['age_bucket'].unique()\n",
    "label_set.sort()\n",
    "\n",
    "label_map={}\n",
    "for i in range(len(label_set)):\n",
    "    label_map.update({ label_set[i]:i })\n",
    "print \"Mapping for label-integer transformation:\", label_map\n",
    "\n",
    "\n",
    "tmp=label_map.items()\n",
    "tmp= map(lambda x:[x[1], str(x[0])], tmp )\n",
    "label_rmap=dict(tmp)\n",
    "print \"Mapping for integer-label transformation:\", label_rmap\n",
    "\n",
    "\n",
    "print train_vali_set.shape"
   ]
  },
  {
   "cell_type": "code",
   "execution_count": 7,
   "metadata": {
    "collapsed": false
   },
   "outputs": [
    {
     "data": {
      "image/png": "[encoded data removed]",
      "text/plain": [
       "<matplotlib.figure.Figure at 0x7f852a578fd0>"
      ]
     },
     "metadata": {},
     "output_type": "display_data"
    }
   ],
   "source": [
    "# BACKUP\n",
    "# Data investigation:\n",
    "# label value distribution: imbalance among differnet classes, \n",
    "# should try weighted loss function to overcome \n",
    "\n",
    "\n",
    "def y_distribution_plot( df_dta, label_set ):\n",
    "    \n",
    "    y_pos = np.arange(len(label_set))\n",
    "    label_cnt=[]\n",
    "    tot_cnt= train_vali_set.shape[0]\n",
    "    \n",
    "    for i in label_set:\n",
    "        \n",
    "        label_cnt.append(train_vali_set[ train_vali_set['age_bucket']==i ].shape[0])\n",
    "\n",
    "# print label_cnt, sum(label_cnt)  \n",
    "# plt.figure()    \n",
    "# plt.bar(y_pos, label_cnt, align='center', alpha=0.5)\n",
    "# plt.xticks(y_pos, label_set, rotation=70)\n",
    "# plt.ylabel('# of data instances w.r.t. \\n each age label')\n",
    "# plt.xlabel('Age labels')\n",
    "\n",
    "# fig.savefig('./results/.jpg', format='jpg', bbox_inches='tight')\n",
    "\n",
    "\n",
    "    for i in range(len(label_cnt)):\n",
    "        label_cnt[i]= label_cnt[i]*1.0/tot_cnt\n",
    "\n",
    "    fig = plt.figure()\n",
    "    plt.bar(y_pos, label_cnt, align='center', alpha=0.5)\n",
    "    plt.xticks(y_pos, label_set, rotation=70)\n",
    "    plt.ylabel('% of data instances w.r.t. \\n each age label')\n",
    "    plt.xlabel('Age labels')\n",
    "# plt.title('Age label')\n",
    "    fig.savefig('./results/classDis.jpg', format='jpg', bbox_inches='tight')\n",
    "    "
   ]
  },
  {
   "cell_type": "code",
   "execution_count": 8,
   "metadata": {
    "collapsed": false
   },
   "outputs": [
    {
     "name": "stdout",
     "output_type": "stream",
     "text": [
      "Shape of dataframe containing mobility features and labels: (8000, 28)\n",
      "Shape of dataframe containing frequency features and labels: (7657, 82)\n",
      "Shape of dataframe containing recency features and labels: (7820, 82)\n",
      "Shape of dataframe containing mobility, frequency features and labels: (7657, 108)\n",
      "Shape of dataframe containing mobility, frequency, recency features and labels: (7657, 188)\n"
     ]
    }
   ],
   "source": [
    "# BACKUP\n",
    "# different combinations of features\n",
    "\n",
    "dta_mobi= pd.merge(train_vali_set, mobi_df,on='uid' )\n",
    "print \"Shape of dataframe containing mobility features and labels:\",dta_mobi.shape\n",
    "\n",
    "dta_fre= pd.merge(train_vali_set, agg_fre_df,on='uid' )\n",
    "print \"Shape of dataframe containing frequency features and labels:\",dta_fre.shape\n",
    "\n",
    "dta_rece= pd.merge(train_vali_set, agg_rece_df,on='uid' )\n",
    "print \"Shape of dataframe containing recency features and labels:\",dta_rece.shape\n",
    "\n",
    "\n",
    "dta_mobi_fre= pd.merge(dta_mobi, agg_fre_df,on='uid' )\n",
    "print \"Shape of dataframe containing mobility, frequency features and labels:\",dta_mobi_fre.shape\n",
    "\n",
    "# dataframe containing all features \n",
    "dta_mobi_fre_rece= pd.merge(dta_mobi_fre, agg_rece_df,on='uid' )\n",
    "print \"Shape of dataframe containing mobility, frequency, recency features and labels:\",dta_mobi_fre_rece.shape"
   ]
  }
 ],
 "metadata": {
  "kernelspec": {
   "display_name": "Python 2",
   "language": "python",
   "name": "python2"
  },
  "language_info": {
   "codemirror_mode": {
    "name": "ipython",
    "version": 2
   },
   "file_extension": ".py",
   "mimetype": "text/x-python",
   "name": "python",
   "nbconvert_exporter": "python",
   "pygments_lexer": "ipython2",
   "version": "2.7.6"
  }
 },
 "nbformat": 4,
 "nbformat_minor": 0
}
