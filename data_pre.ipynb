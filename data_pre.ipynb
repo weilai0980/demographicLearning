{
 "cells": [
  {
   "cell_type": "code",
   "execution_count": 19,
   "metadata": {
    "collapsed": false
   },
   "outputs": [],
   "source": [
    "# data processing packages\n",
    "import numpy as np   \n",
    "import pandas as pd \n",
    "from pandas import *\n",
    "from numpy import *\n",
    "\n",
    "from scipy import stats # look at scipy\n",
    "from scipy import linalg\n",
    "from scipy import *\n",
    " \n",
    "%matplotlib inline    \n",
    "import matplotlib as mplt\n",
    "from matplotlib import cm\n",
    "import matplotlib.pyplot as plt\n",
    "import matplotlib.gridspec as gridspec\n",
    "\n",
    "import IPython\n",
    "from IPython.display import display\n",
    "\n",
    "import matplotlib\n",
    "from matplotlib.ticker import FuncFormatter\n",
    "import matplotlib.pyplot as plt\n",
    "# matplotlib.style.use('ggplot')\n",
    "import itertools\n",
    "\n",
    "import random\n",
    "\n",
    "# machine leanring packages\n",
    "\n",
    "from sklearn.metrics import accuracy_score\n",
    "from sklearn.model_selection import train_test_split\n",
    "from sklearn.model_selection import cross_val_score\n",
    "from sklearn import tree\n",
    "from sklearn.ensemble import GradientBoostingClassifier\n",
    "from sklearn.ensemble import RandomForestClassifier\n",
    "from sklearn.metrics import precision_recall_fscore_support as score\n",
    "\n",
    "from sklearn.model_selection import train_test_split\n"
   ]
  },
  {
   "cell_type": "code",
   "execution_count": 2,
   "metadata": {
    "collapsed": false
   },
   "outputs": [
    {
     "name": "stdout",
     "output_type": "stream",
     "text": [
      "Shape of merged frequency_week dataframe: (9622, 81)\n"
     ]
    }
   ],
   "source": [
    "# pre-process frequency_week features\n",
    "\n",
    "fre_num=1\n",
    "fre_addr=\"../dataset/dataset_demo/ds_take-home_challenge_interest_features_frequency_week_\"\n",
    "\n",
    "fre_df=[]\n",
    "for i in range(1,fre_num+1):\n",
    "    tmpfile=fre_addr+str(i)+\".csv\"\n",
    "    tmpdf=pd.read_csv( tmpfile ,sep=',')\n",
    "    fre_df.append(tmpdf)\n",
    "    \n",
    "# concatenate data in three file and then groupby with uid as the key\n",
    "tot_fre_df = pd.concat(fre_df)\n",
    "agg_fre_df=tot_fre_df.groupby(['uid'], as_index=False).sum()\n",
    "\n",
    "# handle missing data by filling zero\n",
    "# not break the semantic meaning of features \n",
    "agg_fre_df=agg_fre_df.fillna(0)\n",
    "\n",
    "print \"Shape of merged frequency_week dataframe:\",agg_fre_df.shape"
   ]
  },
  {
   "cell_type": "code",
   "execution_count": 3,
   "metadata": {
    "collapsed": false
   },
   "outputs": [
    {
     "name": "stdout",
     "output_type": "stream",
     "text": [
      "Shape of merged mobility_feature dataframe: (10000, 27)\n"
     ]
    }
   ],
   "source": [
    "# pre-process mobility_features\n",
    "mobi_addr=\"../dataset/dataset_demo/ds_take-home_challenge_mobility_features.csv\"\n",
    "mobi_df=pd.read_csv( mobi_addr ,sep=',')\n",
    "mobi_cols= mobi_df.columns\n",
    "\n",
    "print \"Shape of merged mobility_feature dataframe:\", mobi_df.shape"
   ]
  },
  {
   "cell_type": "code",
   "execution_count": 4,
   "metadata": {
    "collapsed": false
   },
   "outputs": [
    {
     "name": "stdout",
     "output_type": "stream",
     "text": [
      "(9635, 81)\n"
     ]
    }
   ],
   "source": [
    "# pre-process recency features: \n",
    "# one-hot encode empty cells \n",
    "\n",
    "rece_num=1\n",
    "rece_addr=\"../dataset/dataset_demo/ds_take-home_challenge_interest_features_recency_week_\"\n",
    "\n",
    "def encoding(x):\n",
    "    if pd.isnull(x):\n",
    "        return 7\n",
    "    else:\n",
    "        return x\n",
    "\n",
    "rece_df=[]\n",
    "for i in range(1,rece_num+1):\n",
    "    tmpfile=rece_addr+str(i)+\".csv\"\n",
    "    tmpdf=pd.read_csv( tmpfile ,sep=',')\n",
    "    rece_df.append(tmpdf)\n",
    "\n",
    "#  encode as categorical features by bit encoding\n",
    "# for classifier, maintain the data integrity, easy for merge datasets,\n",
    "    \n",
    "cols= list(rece_df[0].columns)\n",
    "cols.remove('uid')\n",
    "\n",
    "for i in range(rece_num):\n",
    "    uid_col=rece_df[i]['uid']\n",
    "    tmp_df=rece_df[i][cols].applymap(encoding)\n",
    "    tmp_df['uid']=uid_col\n",
    "    rece_df[i]=tmp_df\n",
    "\n",
    "tot_rece_df = pd.concat(rece_df)\n",
    "tot_rece_df.reset_index(inplace=True, drop=True)\n",
    "\n",
    "print tot_rece_df.shape\n",
    "\n",
    "agg_rece_df = tot_rece_df"
   ]
  },
  {
   "cell_type": "code",
   "execution_count": 5,
   "metadata": {
    "collapsed": false
   },
   "outputs": [
    {
     "name": "stdout",
     "output_type": "stream",
     "text": [
      "Mapping for label-integer transformation: {'18-24': 0, '45-54': 3, '65-74': 5, '25-34': 1, '55-64': 4, '85+': 7, '35-44': 2, '75-84': 6}\n",
      "Mapping for integer-label transformation: {0: '18-24', 1: '25-34', 2: '35-44', 3: '45-54', 4: '55-64', 5: '65-74', 6: '75-84', 7: '85+'}\n",
      "(8000, 2)\n"
     ]
    }
   ],
   "source": [
    "# prepare labels\n",
    "\n",
    "label_addr= \"../dataset/dataset_demo/ds_take-home_challenge_labels.csv\"\n",
    "label_df=pd.read_csv( label_addr ,sep=',')\n",
    "tmpdf= label_df[ ['uid','age_bucket'] ]\n",
    "\n",
    "train_vali_set= tmpdf[ tmpdf['age_bucket']!='na' ]\n",
    "\n",
    "label_set= train_vali_set['age_bucket'].unique()\n",
    "label_set.sort()\n",
    "\n",
    "label_map={}\n",
    "for i in range(len(label_set)):\n",
    "    label_map.update({ label_set[i]:i })\n",
    "print \"Mapping for label-integer transformation:\", label_map\n",
    "\n",
    "tmp=label_map.items()\n",
    "tmp= map(lambda x:[x[1], str(x[0])], tmp )\n",
    "label_rmap=dict(tmp)\n",
    "print \"Mapping for integer-label transformation:\", label_rmap\n",
    "\n",
    "label_df = train_vali_set\n",
    "print label_df.shape"
   ]
  },
  {
   "cell_type": "code",
   "execution_count": 6,
   "metadata": {
    "collapsed": false
   },
   "outputs": [
    {
     "name": "stdout",
     "output_type": "stream",
     "text": [
      "Shape of dataframe containing mobility features and labels: (8000, 28)\n",
      "Shape of dataframe containing mobility, frequency features and labels: (7709, 108)\n",
      "Shape of dataframe containing mobility, frequency, recency features and labels: (7709, 188)\n"
     ]
    }
   ],
   "source": [
    "dta_mobi= pd.merge(label_df, mobi_df,on='uid' )\n",
    "print \"Shape of dataframe containing mobility features and labels:\",dta_mobi.shape\n",
    "\n",
    "dta_mobi_fre= pd.merge(dta_mobi, agg_fre_df,on='uid' )\n",
    "print \"Shape of dataframe containing mobility, frequency features and labels:\",\\\n",
    "dta_mobi_fre.shape\n",
    "\n",
    "# dataframe containing all features \n",
    "dta_mobi_fre_rece= pd.merge(dta_mobi_fre, agg_rece_df,on='uid' )\n",
    "print \"Shape of dataframe containing mobility, frequency, recency features and labels:\",\\\n",
    "dta_mobi_fre_rece.shape\n",
    "\n",
    "xy_df= dta_mobi_fre_rece"
   ]
  },
  {
   "cell_type": "code",
   "execution_count": 7,
   "metadata": {
    "collapsed": false
   },
   "outputs": [
    {
     "name": "stdout",
     "output_type": "stream",
     "text": [
      "(7709,) (7709, 186)\n",
      "Index([u'movement_activity_0', u'movement_activity_1', u'movement_activity_2',\n",
      "       u'movement_activity_3', u'movement_activity_4', u'movement_activity_5',\n",
      "       u'movement_activity_6', u'movement_activity_7', u'movement_activity_8',\n",
      "       u'stationarity_0',\n",
      "       ...\n",
      "       u'Shopping~Consumer_Electronics_y', u'Shopping~Coupons_y',\n",
      "       u'Shopping~Home_and_Garden_y', u'Shopping~Other_y',\n",
      "       u'Shopping~Sports_y', u'Sports~Other_y',\n",
      "       u'Travel~Accommodation_and_Hotels_y', u'Travel~Airlines_and_Airports_y',\n",
      "       u'Travel~Other_y', u'Travel~Tourism_y'],\n",
      "      dtype='object', length=186)\n"
     ]
    }
   ],
   "source": [
    "tmpcols = list(xy_df.columns)\n",
    "y_df = xy_df['age_bucket']\n",
    "\n",
    "tmpcols.remove('age_bucket')\n",
    "tmpcols.remove('uid')\n",
    "x_df = xy_df[tmpcols] \n",
    "\n",
    "print y_df.shape, x_df.shape\n",
    "print x_df.columns\n"
   ]
  },
  {
   "cell_type": "code",
   "execution_count": 8,
   "metadata": {
    "collapsed": false
   },
   "outputs": [
    {
     "name": "stdout",
     "output_type": "stream",
     "text": [
      "(6938, 186) (6938, 1) (771, 186) (771, 1)\n",
      "Y distribution on training data\n",
      "Y distribution on testing data\n"
     ]
    },
    {
     "data": {
      "image/png": "[encoded data removed]",
      "text/plain": [
       "<matplotlib.figure.Figure at 0x7fcfd826e290>"
      ]
     },
     "metadata": {},
     "output_type": "display_data"
    },
    {
     "data": {
      "image/png": "[encoded data removed]",
      "text/plain": [
       "<matplotlib.figure.Figure at 0x7fcfa07f4490>"
      ]
     },
     "metadata": {},
     "output_type": "display_data"
    }
   ],
   "source": [
    "# prepare the training and testing datasets\n",
    "\n",
    "cnt=y_df.shape[0]\n",
    "ylist = list(y_df)\n",
    "# print ylist\n",
    "ylabel_list = [ label_map[i] for i in ylist ]\n",
    "\n",
    "ylabel = np.matrix(ylabel_list).transpose() \n",
    "x = x_df.as_matrix()\n",
    " \n",
    "x_train, x_test, y_train, y_test = train_test_split( x, ylabel, \\\n",
    "                                                           test_size=0.1, random_state=20)\n",
    "\n",
    "print np.shape(x_train),np.shape(y_train),np.shape(x_test),np.shape(y_test)\n",
    "\n",
    "from utils import *\n",
    "\n",
    "print \"Y distribution on training data\"\n",
    "y_distribution_plot( y_train, range(8) )\n",
    "print \"Y distribution on testing data\"\n",
    "y_distribution_plot( y_test, range(8) )"
   ]
  },
  {
   "cell_type": "code",
   "execution_count": 9,
   "metadata": {
    "collapsed": false
   },
   "outputs": [],
   "source": [
    "np.savetxt(\"../dataset/dataset_demo/xtrain.csv\", x_train, delimiter=\",\")\n",
    "np.savetxt(\"../dataset/dataset_demo/xtest.csv\", x_test, delimiter=\",\")\n",
    "\n",
    "np.savetxt(\"../dataset/dataset_demo/ytrain.csv\", y_train, delimiter=\",\")\n",
    "np.savetxt(\"../dataset/dataset_demo/ytest.csv\", y_test, delimiter=\",\")"
   ]
  },
  {
   "cell_type": "code",
   "execution_count": 23,
   "metadata": {
    "collapsed": true
   },
   "outputs": [],
   "source": [
    "# downsample the whole data\n",
    "\n",
    "def down_sample_data( percent, x_all, y_all ):\n",
    "    \n",
    "    total_idx = range(len(x_all))\n",
    "    np.random.shuffle(total_idx)\n",
    "    \n",
    "    tmpx = np.array(x_all)\n",
    "    tmpy = np.array(y_all)\n",
    "    \n",
    "    return tmpx[ total_idx[: int( percent * len(total_idx))] ], \\\n",
    "           tmpy[ total_idx[: int( percent * len(total_idx))] ]"
   ]
  },
  {
   "cell_type": "code",
   "execution_count": 25,
   "metadata": {
    "collapsed": false
   },
   "outputs": [
    {
     "name": "stderr",
     "output_type": "stream",
     "text": [
      "/usr/local/lib/python2.7/dist-packages/ipykernel/__main__.py:11: SettingWithCopyWarning: \n",
      "A value is trying to be set on a copy of a slice from a DataFrame.\n",
      "Try using .loc[row_indexer,col_indexer] = value instead\n",
      "\n",
      "See the caveats in the documentation: http://pandas.pydata.org/pandas-docs/stable/indexing.html#indexing-view-versus-copy\n",
      "/usr/local/lib/python2.7/dist-packages/ipykernel/__main__.py:12: SettingWithCopyWarning: \n",
      "A value is trying to be set on a copy of a slice from a DataFrame.\n",
      "Try using .loc[row_indexer,col_indexer] = value instead\n",
      "\n",
      "See the caveats in the documentation: http://pandas.pydata.org/pandas-docs/stable/indexing.html#indexing-view-versus-copy\n"
     ]
    },
    {
     "name": "stdout",
     "output_type": "stream",
     "text": [
      "(30000, 23) (30000,)\n"
     ]
    },
    {
     "name": "stderr",
     "output_type": "stream",
     "text": [
      "/usr/local/lib/python2.7/dist-packages/ipykernel/__main__.py:13: SettingWithCopyWarning: \n",
      "A value is trying to be set on a copy of a slice from a DataFrame.\n",
      "Try using .loc[row_indexer,col_indexer] = value instead\n",
      "\n",
      "See the caveats in the documentation: http://pandas.pydata.org/pandas-docs/stable/indexing.html#indexing-view-versus-copy\n"
     ]
    }
   ],
   "source": [
    "# dataset of default of credit card clients\n",
    "\n",
    "cli_addr = \"../dataset/dataset_demo/default_clients.csv\"\n",
    "df   =pd.read_csv( cli_addr ,sep=',')\n",
    "cols = df.columns\n",
    "\n",
    "ordered_df = df[ ['LIMIT_BAL', 'PAY_0', 'PAY_2', 'PAY_3', 'PAY_4', 'PAY_5', 'PAY_6', \\\n",
    "                   'AGE', 'BILL_AMT1', 'BILL_AMT2', 'BILL_AMT3', 'BILL_AMT4', 'BILL_AMT5',\\\n",
    "                   'BILL_AMT6', 'PAY_AMT1', 'PAY_AMT2', 'PAY_AMT3', 'PAY_AMT4',\\\n",
    "                   'PAY_AMT5', 'PAY_AMT6',\\\n",
    "                   'SEX', 'EDUCATION', 'MARRIAGE' ] ]\n",
    "\n",
    "y_df = df['default payment next month']\n",
    "\n",
    "ordered_df['SEX']       = ordered_df['SEX'].apply(lambda x: x-1)\n",
    "ordered_df['EDUCATION'] = ordered_df['EDUCATION'].apply(lambda x: x-1)\n",
    "ordered_df['MARRIAGE']  = ordered_df['MARRIAGE'].apply(lambda x: x-1)\n",
    "\n",
    "\n",
    "x = ordered_df.as_matrix()\n",
    "y = y_df.as_matrix()\n",
    "\n",
    "print np.shape(x), np.shape(y)"
   ]
  },
  {
   "cell_type": "code",
   "execution_count": 26,
   "metadata": {
    "collapsed": false
   },
   "outputs": [
    {
     "name": "stdout",
     "output_type": "stream",
     "text": [
      "(7500, 23) (7500,)\n",
      "(6000, 23) (6000,) (1500, 23) (1500,)\n",
      "Y distribution on training data\n",
      "Y distribution on testing data\n"
     ]
    },
    {
     "data": {
      "image/png": "[encoded data removed]",
      "text/plain": [
       "<matplotlib.figure.Figure at 0x7f6a0473df90>"
      ]
     },
     "metadata": {},
     "output_type": "display_data"
    },
    {
     "data": {
      "image/png": "[encoded data removed]",
      "text/plain": [
       "<matplotlib.figure.Figure at 0x7f69ca40ded0>"
      ]
     },
     "metadata": {},
     "output_type": "display_data"
    }
   ],
   "source": [
    "sample_x, sample_y = down_sample_data( 0.25, x, y )\n",
    "\n",
    "print np.shape(sample_x), np.shape(sample_y)\n",
    "\n",
    "\n",
    "x_train, x_test, y_train, y_test = train_test_split( sample_x, sample_y, \\\n",
    "                                                           test_size=0.2, random_state=20)\n",
    "\n",
    "print np.shape(x_train),np.shape(y_train),np.shape(x_test),np.shape(y_test)\n",
    "\n",
    "from utils import *\n",
    "\n",
    "print \"Y distribution on training data\"\n",
    "y_distribution_plot( y_train, range(2) )\n",
    "print \"Y distribution on testing data\"\n",
    "y_distribution_plot( y_test, range(2) )"
   ]
  },
  {
   "cell_type": "code",
   "execution_count": 27,
   "metadata": {
    "collapsed": true
   },
   "outputs": [],
   "source": [
    "np.savetxt(\"../dataset/dataset_demo/default_xtrain.csv\", x_train, delimiter=\",\")\n",
    "np.savetxt(\"../dataset/dataset_demo/default_xtest.csv\", x_test, delimiter=\",\")\n",
    "\n",
    "np.savetxt(\"../dataset/dataset_demo/default_ytrain.csv\", y_train, delimiter=\",\")\n",
    "np.savetxt(\"../dataset/dataset_demo/default_ytest.csv\", y_test, delimiter=\",\")"
   ]
  }
 ],
 "metadata": {
  "kernelspec": {
   "display_name": "Python 2",
   "language": "python",
   "name": "python2"
  },
  "language_info": {
   "codemirror_mode": {
    "name": "ipython",
    "version": 2
   },
   "file_extension": ".py",
   "mimetype": "text/x-python",
   "name": "python",
   "nbconvert_exporter": "python",
   "pygments_lexer": "ipython2",
   "version": "2.7.6"
  }
 },
 "nbformat": 4,
 "nbformat_minor": 0
}
